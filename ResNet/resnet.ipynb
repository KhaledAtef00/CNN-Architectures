{
 "cells": [
  {
   "cell_type": "code",
   "execution_count": 12,
   "id": "c2e14787",
   "metadata": {},
   "outputs": [],
   "source": [
    "import torch\n",
    "import torchvision\n",
    "import torch.nn as nn\n",
    "import torch.optim as optim\n",
    "import torch.nn.functional as F\n",
    "from torchvision import datasets, transforms\n",
    "from torch.utils.data import DataLoader\n",
    "import matplotlib.pyplot as plt"
   ]
  },
  {
   "cell_type": "code",
   "execution_count": 45,
   "id": "278119cc",
   "metadata": {},
   "outputs": [],
   "source": [
    "class block(nn.Module):\n",
    "    def __init__(self , in_channels , out_channels , identity_downsample = None , stride = 1):\n",
    "        super(block , self).__init__()\n",
    "        self.expansion = 4\n",
    "        \n",
    "        self.conv1 = nn.Conv2d(in_channels , out_channels , kernel_size = 1 , stride = 1 , padding =0) \n",
    "        self.bn1 = nn.BatchNorm2d(out_channels)\n",
    "        \n",
    "        self.conv2 = nn.Conv2d(out_channels , out_channels , kernel_size =3 , stride = stride , padding =1) \n",
    "        self.bn2 = nn.BatchNorm2d(out_channels)\n",
    "        \n",
    "        self.conv3 = nn.Conv2d(out_channels , out_channels*self.expansion , kernel_size =1 , stride = 1 , padding =0) \n",
    "        self.bn3 = nn.BatchNorm2d(out_channels*self.expansion)\n",
    "        \n",
    "        self.relu = nn.ReLU()\n",
    "        self.identity_downsample = identity_downsample\n",
    "    \n",
    "    def forward(self ,x):\n",
    "        identity = x\n",
    "        x = self.conv1(x)\n",
    "        x = self.bn1(x)\n",
    "        x = self.relu(x)\n",
    "        \n",
    "        x = self.conv2(x)\n",
    "        x = self.bn2(x)\n",
    "        x = self.relu(x)\n",
    "\n",
    "        \n",
    "        x = self.conv3(x)\n",
    "        x = self.bn3(x)\n",
    "        \n",
    "        if(self.identity_downsample !=None):\n",
    "            identity = self.identity_downsample(identity)\n",
    "        \n",
    "        x += identity\n",
    "        x = self.relu(x)\n",
    "        return x\n"
   ]
  },
  {
   "cell_type": "code",
   "execution_count": 46,
   "id": "0aedd633",
   "metadata": {},
   "outputs": [],
   "source": [
    "class ResNet(nn.Module):\n",
    "    def __init__(self ,block , layers , img_channels , num_classes):\n",
    "        \n",
    "        super(ResNet , self).__init__()\n",
    "        self.in_channels = 64\n",
    "        self.conv1 = nn.Conv2d(img_channels , 64 , kernel_size = 7 , stride = 2 , padding =3)\n",
    "        self.bn1 = nn.BatchNorm2d(64)\n",
    "        self.relu = nn.ReLU()\n",
    "        self.maxpool = nn.MaxPool2d(kernel_size= 3 , stride = 2 , padding =1)\n",
    "        \n",
    "        #Resnet Layers\n",
    "        self.layer1 = self.__make_layer(block , layers[0] , out_channels = 64 , stride = 1)\n",
    "        self.layer2 = self.__make_layer(block , layers[1] , out_channels = 128 , stride = 2)\n",
    "        self.layer3 = self.__make_layer(block , layers[2] , out_channels = 256 , stride = 2)\n",
    "        self.layer4 = self.__make_layer(block , layers[3] , out_channels = 512 , stride = 2) \n",
    "        \n",
    "        self.avgpool = nn.AdaptiveAvgPool2d((1,1) )\n",
    "        self.fc = nn.Linear(512*4 , num_classes)\n",
    "        \n",
    "    def forward(self , x):\n",
    "        \n",
    "        x = self.conv1(x)\n",
    "        x= self.bn1(x)\n",
    "        x = self.relu(x)\n",
    "        x = self.maxpool(x)\n",
    "        \n",
    "        x = self.layer1(x)\n",
    "        x = self.layer2(x)\n",
    "        x = self.layer3(x)\n",
    "        x = self.layer4(x)\n",
    "        \n",
    "        x = self.avgpool(x)\n",
    "        x = x.reshape(x.shape[0] , -1)\n",
    "        x = self.fc(x)\n",
    "        \n",
    "        return x\n",
    "        \n",
    "        \n",
    "\n",
    "\n",
    "        \n",
    "    \n",
    "    \n",
    "    \n",
    "    def __make_layer(self , block , num_of_residuals , out_channels , stride):\n",
    "        identity_downsample = None\n",
    "        layers = []\n",
    "        \n",
    "        if(stride !=1 or self.in_channels!=out_channels*4):\n",
    "            identity_downsample = nn.Sequential(\n",
    "                nn.Conv2d(self.in_channels , out_channels*4 , kernel_size = 1 , stride = stride),\n",
    "                nn.BatchNorm2d(out_channels*4),\n",
    "            )\n",
    "            \n",
    "        layers.append(block(self.in_channels , out_channels , identity_downsample , stride ))\n",
    "        self.in_channels = out_channels * 4 # 64*4 = 256\n",
    "        \n",
    "        for i in range(num_of_residuals-1):\n",
    "            layers.append(block(self.in_channels , out_channels)) #inchannels = 256 , .\n",
    "            \n",
    "        return nn.Sequential(*layers)\n",
    "        \n",
    "            \n",
    "            \n",
    "        \n",
    "        \n",
    "        "
   ]
  },
  {
   "cell_type": "code",
   "execution_count": 47,
   "id": "f399d8a1",
   "metadata": {},
   "outputs": [],
   "source": [
    "def ResNet50 ( img_channels , num_classes ):\n",
    "    return ResNet (block , [3,4,6,3]  , img_channels , num_classes)"
   ]
  },
  {
   "cell_type": "code",
   "execution_count": 48,
   "id": "cc7b704d",
   "metadata": {},
   "outputs": [],
   "source": [
    "def ResNet101 ( img_channels , num_classes ):\n",
    "    return ResNet (block , [3,4,23,3]  , img_channels , num_classes)"
   ]
  },
  {
   "cell_type": "code",
   "execution_count": 49,
   "id": "9c4cdbe8",
   "metadata": {},
   "outputs": [],
   "source": [
    "def ResNet152 ( img_channels , num_classes ):\n",
    "    return ResNet (block , [3,8,36,3]  , img_channels , num_classes)"
   ]
  },
  {
   "cell_type": "code",
   "execution_count": 50,
   "id": "13aa769d",
   "metadata": {},
   "outputs": [],
   "source": [
    "def test():\n",
    "    net = ResNet50(3, 1000)\n",
    "    x = torch.randn(2 ,3,224 , 224)\n",
    "    y = net(x)\n",
    "    print(y.shape)"
   ]
  },
  {
   "cell_type": "code",
   "execution_count": 51,
   "id": "cc47f263",
   "metadata": {},
   "outputs": [
    {
     "name": "stdout",
     "output_type": "stream",
     "text": [
      "torch.Size([2, 1000])\n"
     ]
    }
   ],
   "source": [
    "test()"
   ]
  }
 ],
 "metadata": {
  "kernelspec": {
   "display_name": "Python 3 (ipykernel)",
   "language": "python",
   "name": "python3"
  },
  "language_info": {
   "codemirror_mode": {
    "name": "ipython",
    "version": 3
   },
   "file_extension": ".py",
   "mimetype": "text/x-python",
   "name": "python",
   "nbconvert_exporter": "python",
   "pygments_lexer": "ipython3",
   "version": "3.8.6"
  }
 },
 "nbformat": 4,
 "nbformat_minor": 5
}
